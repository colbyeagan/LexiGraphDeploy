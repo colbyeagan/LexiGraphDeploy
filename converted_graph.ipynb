{
 "cells": [
  {
   "cell_type": "code",
   "execution_count": 1,
   "metadata": {},
   "outputs": [
    {
     "name": "stdout",
     "output_type": "stream",
     "text": [
      "Interactive chart exported as 'interactive_chart.html'\n"
     ]
    }
   ],
   "source": [
    "import requests\n",
    "import pandas as pd\n",
    "import plotly.graph_objects as go\n",
    "import plotly.io as pio\n",
    "from io import StringIO\n",
    "from datetime import datetime, timedelta\n",
    "\n",
    "# Define the custom font\n",
    "custom_font = \"OpenDyslexic3-Regular.ttf\"\n",
    "\n",
    "def get_date_range(time_range):\n",
    "    end_date = datetime.strptime('2018-03-27', '%Y-%m-%d')\n",
    "    start_date = None\n",
    "    \n",
    "    if time_range == '3m':\n",
    "        start_date = end_date - timedelta(days=91)\n",
    "    elif time_range == '6m':\n",
    "        start_date = end_date - timedelta(days=182)\n",
    "    elif time_range == '1y':\n",
    "        start_date = end_date - timedelta(days=365)\n",
    "    elif time_range == '2y':\n",
    "        start_date = end_date - timedelta(days=730)\n",
    "    elif time_range == '3y':\n",
    "        start_date = end_date - timedelta(days=1095)\n",
    "    elif time_range == '4y':\n",
    "        start_date = end_date - timedelta(days=1460)\n",
    "    elif time_range == '5y':\n",
    "        start_date = end_date - timedelta(days=1825)\n",
    "    else:\n",
    "        return None, None  # Invalid time_range\n",
    "    \n",
    "    return start_date.strftime('%Y-%m-%d'), end_date.strftime('%Y-%m-%d')\n",
    "\n",
    "tickerName = input(\"Type a stock ticker symbol\")\n",
    "tickerName = tickerName.upper()\n",
    "\n",
    "time_range = input(\"Choose a time range ('3m', '6m', '1y', '2y', '3y', '4y', '5y'): \").strip()\n",
    "start_date, end_date = get_date_range(time_range)\n",
    "url = f\"https://data.nasdaq.com/api/v3/datasets/WIKI/{tickerName}.csv?collapse=none&start_date={start_date}&end_date={end_date}&api_key=tMexE-dhnFFSApsTQVgz\"\n",
    "\n",
    "response = requests.get(url)\n",
    "\n",
    "if response.status_code == 200:\n",
    "    # Use Pandas to read the CSV data from the response and create a DataFrame\n",
    "    df = pd.read_csv(StringIO(response.text))\n",
    "    \n",
    "    # Convert the 'Date' column to a datetime data type\n",
    "    df['Date'] = pd.to_datetime(df['Date'])\n",
    "    \n",
    "    # Create an interactive Plotly chart\n",
    "    fig = go.Figure()\n",
    "\n",
    "    fig.add_trace(\n",
    "        go.Scatter(x=df['Date'], y=df['Open'], mode='lines', name=tickerName, \n",
    "                   hovertemplate='%{x|%Y-%m-%d}<br>Value: $%{y:.2f}')\n",
    "    )\n",
    "\n",
    "    # Customize the chart's appearance and use custom font\n",
    "    fig.update_layout(\n",
    "        title=f'{tickerName} Chart',\n",
    "        xaxis_title='Date',\n",
    "        yaxis_title='Value',\n",
    "        title_font=dict(family=custom_font, size=16),\n",
    "        xaxis=dict(title_font=dict(family=custom_font)),\n",
    "        yaxis=dict(title_font=dict(family=custom_font)),\n",
    "        font=dict(family=custom_font, size=14),\n",
    "    )\n",
    "\n",
    "    fig.show()\n",
    "    \n",
    "else:\n",
    "    print(\"API request failed with status code:\", response.status_code)\n"
   ]
  }
 ],
 "metadata": {
  "kernelspec": {
   "display_name": "base",
   "language": "python",
   "name": "python3"
  },
  "language_info": {
   "codemirror_mode": {
    "name": "ipython",
    "version": 3
   },
   "file_extension": ".py",
   "mimetype": "text/x-python",
   "name": "python",
   "nbconvert_exporter": "python",
   "pygments_lexer": "ipython3",
   "version": "3.10.6"
  },
  "orig_nbformat": 4
 },
 "nbformat": 4,
 "nbformat_minor": 2
}
